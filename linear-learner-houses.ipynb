{
 "cells": [
  {
   "cell_type": "code",
   "execution_count": 14,
   "id": "d18f8d07-c22d-48ba-a777-71f8a70f76df",
   "metadata": {
    "execution": {
     "iopub.execute_input": "2025-09-02T22:34:38.237619Z",
     "iopub.status.busy": "2025-09-02T22:34:38.237346Z",
     "iopub.status.idle": "2025-09-02T22:34:38.241769Z",
     "shell.execute_reply": "2025-09-02T22:34:38.241050Z",
     "shell.execute_reply.started": "2025-09-02T22:34:38.237595Z"
    }
   },
   "outputs": [],
   "source": [
    "import pandas as pd\n",
    "import numpy as np\n",
    "import matplotlib.pyplot as plt\n",
    "%matplotlib inline\n",
    "import seaborn as sns"
   ]
  },
  {
   "cell_type": "code",
   "execution_count": null,
   "id": "a1ef1bb9-408c-4d9d-a733-34beb6c38958",
   "metadata": {},
   "outputs": [],
   "source": [
    "base_casas = pd.read_csv('/home/sagemaker-user/regressao/house_prices.csv')\n",
    "base_casas"
   ]
  },
  {
   "cell_type": "code",
   "execution_count": null,
   "id": "fb8a5748-72eb-46f6-bb32-c70603f3205c",
   "metadata": {},
   "outputs": [],
   "source": [
    "base_casas.isnull().sum()"
   ]
  },
  {
   "cell_type": "code",
   "execution_count": null,
   "id": "29083479-2762-4e56-92f1-3c22b56ad062",
   "metadata": {},
   "outputs": [],
   "source": [
    "base_casas.corr()"
   ]
  },
  {
   "cell_type": "code",
   "execution_count": null,
   "id": "7ed26f97-218d-435b-b4ce-ca5fe62efd85",
   "metadata": {},
   "outputs": [],
   "source": [
    "base_casas.dtypes"
   ]
  },
  {
   "cell_type": "code",
   "execution_count": 26,
   "id": "b9e7d90f-60a7-406d-8013-99b85f43cef5",
   "metadata": {
    "execution": {
     "iopub.execute_input": "2025-09-02T22:54:06.580095Z",
     "iopub.status.busy": "2025-09-02T22:54:06.579792Z",
     "iopub.status.idle": "2025-09-02T22:54:06.595252Z",
     "shell.execute_reply": "2025-09-02T22:54:06.594432Z",
     "shell.execute_reply.started": "2025-09-02T22:54:06.580069Z"
    }
   },
   "outputs": [],
   "source": [
    "base_casas['date'] = pd.to_datetime(base_casas['date'], format='%Y%m%dT%H%M%S')"
   ]
  },
  {
   "cell_type": "code",
   "execution_count": null,
   "id": "7de8e13e-4313-4cae-9174-25c74534747b",
   "metadata": {},
   "outputs": [],
   "source": [
    "figura = plt.figure(figsize=(20,20))\n",
    "sns.heatmap(base_casas.corr(),annot= True);"
   ]
  },
  {
   "cell_type": "code",
   "execution_count": 32,
   "id": "cb822685-fbc0-437e-8fd9-131a28d11f24",
   "metadata": {
    "execution": {
     "iopub.execute_input": "2025-09-05T22:04:34.900539Z",
     "iopub.status.busy": "2025-09-05T22:04:34.900264Z",
     "iopub.status.idle": "2025-09-05T22:04:34.905364Z",
     "shell.execute_reply": "2025-09-05T22:04:34.904657Z",
     "shell.execute_reply.started": "2025-09-05T22:04:34.900516Z"
    }
   },
   "outputs": [],
   "source": [
    "X = base_casas.iloc[:, 3:19].values"
   ]
  },
  {
   "cell_type": "code",
   "execution_count": 34,
   "id": "41b6bce1-f2e0-4f34-a78f-6b54731ad59e",
   "metadata": {
    "execution": {
     "iopub.execute_input": "2025-09-05T22:06:02.859654Z",
     "iopub.status.busy": "2025-09-05T22:06:02.854900Z",
     "iopub.status.idle": "2025-09-05T22:06:02.931739Z",
     "shell.execute_reply": "2025-09-05T22:06:02.930583Z",
     "shell.execute_reply.started": "2025-09-05T22:06:02.859596Z"
    }
   },
   "outputs": [
    {
     "data": {
      "text/plain": [
       "array([221900., 538000., 180000., ..., 402101., 400000., 325000.])"
      ]
     },
     "execution_count": 34,
     "metadata": {},
     "output_type": "execute_result"
    }
   ],
   "source": [
    "y = base_casas.iloc[:, 2].values\n",
    "y"
   ]
  },
  {
   "cell_type": "code",
   "execution_count": 35,
   "id": "7c118c0d-575e-4c59-8ee2-3802f15d5756",
   "metadata": {
    "execution": {
     "iopub.execute_input": "2025-09-05T22:11:06.348052Z",
     "iopub.status.busy": "2025-09-05T22:11:06.347765Z",
     "iopub.status.idle": "2025-09-05T22:11:06.351956Z",
     "shell.execute_reply": "2025-09-05T22:11:06.351355Z",
     "shell.execute_reply.started": "2025-09-05T22:11:06.348028Z"
    }
   },
   "outputs": [],
   "source": [
    "X = np.array(X).astype('float32')\n",
    "y = np.array(y).astype('float32')"
   ]
  },
  {
   "cell_type": "code",
   "execution_count": 36,
   "id": "5350e664-d108-469a-9726-d486191e7b0d",
   "metadata": {
    "execution": {
     "iopub.execute_input": "2025-09-05T22:13:13.742038Z",
     "iopub.status.busy": "2025-09-05T22:13:13.741749Z",
     "iopub.status.idle": "2025-09-05T22:13:13.745750Z",
     "shell.execute_reply": "2025-09-05T22:13:13.745035Z",
     "shell.execute_reply.started": "2025-09-05T22:13:13.742014Z"
    }
   },
   "outputs": [],
   "source": [
    "from sklearn.model_selection import train_test_split"
   ]
  },
  {
   "cell_type": "code",
   "execution_count": 37,
   "id": "4f8bfd55-6d8a-4e58-85d9-6242c37bc0e7",
   "metadata": {
    "execution": {
     "iopub.execute_input": "2025-09-05T22:15:14.102800Z",
     "iopub.status.busy": "2025-09-05T22:15:14.102493Z",
     "iopub.status.idle": "2025-09-05T22:15:14.113375Z",
     "shell.execute_reply": "2025-09-05T22:15:14.112013Z",
     "shell.execute_reply.started": "2025-09-05T22:15:14.102778Z"
    }
   },
   "outputs": [],
   "source": [
    "X_treinamento, X_teste, y_treinamento, y_teste = train_test_split(X, y, test_size=0.3, random_state=0)"
   ]
  },
  {
   "cell_type": "code",
   "execution_count": 39,
   "id": "fb3c931c-6623-4617-ad17-6e14bb56b755",
   "metadata": {
    "execution": {
     "iopub.execute_input": "2025-09-05T22:16:31.543383Z",
     "iopub.status.busy": "2025-09-05T22:16:31.543113Z",
     "iopub.status.idle": "2025-09-05T22:16:31.547582Z",
     "shell.execute_reply": "2025-09-05T22:16:31.546751Z",
     "shell.execute_reply.started": "2025-09-05T22:16:31.543362Z"
    }
   },
   "outputs": [
    {
     "data": {
      "text/plain": [
       "((15129, 16), (6484, 16))"
      ]
     },
     "execution_count": 39,
     "metadata": {},
     "output_type": "execute_result"
    }
   ],
   "source": [
    "X_treinamento.shape, X_teste.shape"
   ]
  },
  {
   "cell_type": "code",
   "execution_count": 40,
   "id": "7f458731-b673-4f6c-8fc7-4af43f8fc30f",
   "metadata": {
    "execution": {
     "iopub.execute_input": "2025-09-05T22:16:34.910118Z",
     "iopub.status.busy": "2025-09-05T22:16:34.909751Z",
     "iopub.status.idle": "2025-09-05T22:16:34.915335Z",
     "shell.execute_reply": "2025-09-05T22:16:34.914535Z",
     "shell.execute_reply.started": "2025-09-05T22:16:34.910091Z"
    }
   },
   "outputs": [
    {
     "data": {
      "text/plain": [
       "((15129,), (6484,))"
      ]
     },
     "execution_count": 40,
     "metadata": {},
     "output_type": "execute_result"
    }
   ],
   "source": [
    "y_treinamento.shape, y_teste.shape"
   ]
  },
  {
   "cell_type": "code",
   "execution_count": 41,
   "id": "dacee1cc-f63c-4d08-b3f7-fe931262e92d",
   "metadata": {
    "execution": {
     "iopub.execute_input": "2025-09-05T22:21:02.459124Z",
     "iopub.status.busy": "2025-09-05T22:21:02.458834Z",
     "iopub.status.idle": "2025-09-05T22:21:02.465227Z",
     "shell.execute_reply": "2025-09-05T22:21:02.463953Z",
     "shell.execute_reply.started": "2025-09-05T22:21:02.459099Z"
    }
   },
   "outputs": [],
   "source": [
    "import sagemaker\n",
    "import boto3\n",
    "from sagemaker import Session"
   ]
  },
  {
   "cell_type": "code",
   "execution_count": 42,
   "id": "810c1155-a9cd-405b-9905-ed575a1e8f48",
   "metadata": {
    "execution": {
     "iopub.execute_input": "2025-09-05T22:25:54.746759Z",
     "iopub.status.busy": "2025-09-05T22:25:54.746295Z",
     "iopub.status.idle": "2025-09-05T22:25:54.749490Z",
     "shell.execute_reply": "2025-09-05T22:25:54.748930Z",
     "shell.execute_reply.started": "2025-09-05T22:25:54.746735Z"
    }
   },
   "outputs": [],
   "source": [
    "session = sagemaker.Session\n",
    "bucket = 'curso-aws-sagemaker1996'\n",
    "subpasta_modelo = 'modelos/house-prices/linear-learner'\n",
    "subpasta_dataset = 'datasets/house-prices'"
   ]
  },
  {
   "cell_type": "code",
   "execution_count": 43,
   "id": "3308f298-f8fc-438e-bf7f-8fa68dd4e591",
   "metadata": {
    "execution": {
     "iopub.execute_input": "2025-09-05T22:26:25.574453Z",
     "iopub.status.busy": "2025-09-05T22:26:25.574096Z",
     "iopub.status.idle": "2025-09-05T22:26:25.737116Z",
     "shell.execute_reply": "2025-09-05T22:26:25.736361Z",
     "shell.execute_reply.started": "2025-09-05T22:26:25.574427Z"
    }
   },
   "outputs": [
    {
     "name": "stdout",
     "output_type": "stream",
     "text": [
      "arn:aws:iam::774305611476:role/service-role/AmazonSageMaker-ExecutionRole-20250829T201890\n"
     ]
    }
   ],
   "source": [
    "role = sagemaker.get_execution_role()\n",
    "print(role)"
   ]
  },
  {
   "cell_type": "code",
   "execution_count": 44,
   "id": "35d96a93-d47d-4950-90a3-7f4165a3f76a",
   "metadata": {
    "execution": {
     "iopub.execute_input": "2025-09-05T22:35:13.886868Z",
     "iopub.status.busy": "2025-09-05T22:35:13.886600Z",
     "iopub.status.idle": "2025-09-05T22:35:14.073312Z",
     "shell.execute_reply": "2025-09-05T22:35:14.072475Z",
     "shell.execute_reply.started": "2025-09-05T22:35:13.886847Z"
    }
   },
   "outputs": [
    {
     "data": {
      "text/plain": [
       "0"
      ]
     },
     "execution_count": 44,
     "metadata": {},
     "output_type": "execute_result"
    }
   ],
   "source": [
    "import io\n",
    "import sagemaker.amazon.common as smac\n",
    "\n",
    "buffer = io.BytesIO()\n",
    "smac.write_numpy_to_dense_tensor(buffer, X_treinamento, y_treinamento)\n",
    "buffer.seek(0)"
   ]
  },
  {
   "cell_type": "code",
   "execution_count": 45,
   "id": "f7ce56ff-2310-4684-bfce-0284582e1e37",
   "metadata": {
    "execution": {
     "iopub.execute_input": "2025-09-05T22:53:37.974261Z",
     "iopub.status.busy": "2025-09-05T22:53:37.973966Z",
     "iopub.status.idle": "2025-09-05T22:53:38.239300Z",
     "shell.execute_reply": "2025-09-05T22:53:38.238588Z",
     "shell.execute_reply.started": "2025-09-05T22:53:37.974223Z"
    }
   },
   "outputs": [],
   "source": [
    "import os\n",
    "key = 'house-train-data'\n",
    "boto3.resource('s3').Bucket(bucket).Object(os.path.join(subpasta_dataset, 'train', key)).upload_fileobj(buffer)"
   ]
  },
  {
   "cell_type": "code",
   "execution_count": 48,
   "id": "145c5a99-14f7-4fda-929c-855c8ac46605",
   "metadata": {
    "execution": {
     "iopub.execute_input": "2025-09-05T23:00:32.534172Z",
     "iopub.status.busy": "2025-09-05T23:00:32.533901Z",
     "iopub.status.idle": "2025-09-05T23:00:32.538445Z",
     "shell.execute_reply": "2025-09-05T23:00:32.537742Z",
     "shell.execute_reply.started": "2025-09-05T23:00:32.534150Z"
    }
   },
   "outputs": [
    {
     "data": {
      "text/plain": [
       "'datasets/house-prices/train/house-train-data'"
      ]
     },
     "execution_count": 48,
     "metadata": {},
     "output_type": "execute_result"
    }
   ],
   "source": [
    "os.path.join(subpasta_dataset, 'train', key)"
   ]
  },
  {
   "cell_type": "code",
   "execution_count": 49,
   "id": "f3bd4a13-b2f9-47e5-8003-1b0fa603cb9c",
   "metadata": {
    "execution": {
     "iopub.execute_input": "2025-09-05T23:03:30.023393Z",
     "iopub.status.busy": "2025-09-05T23:03:30.023104Z",
     "iopub.status.idle": "2025-09-05T23:03:30.027465Z",
     "shell.execute_reply": "2025-09-05T23:03:30.026556Z",
     "shell.execute_reply.started": "2025-09-05T23:03:30.023370Z"
    }
   },
   "outputs": [
    {
     "name": "stdout",
     "output_type": "stream",
     "text": [
      "Localização da pasta de treinamento:s3://curso-aws-sagemaker1996/datasets/house-prices/train/house-train-data\n"
     ]
    }
   ],
   "source": [
    "s3_train_data = 's3://{}/{}/train/{}'.format(bucket, subpasta_dataset, key)\n",
    "print('Localização da pasta de treinamento:{}'.format(s3_train_data))"
   ]
  },
  {
   "cell_type": "code",
   "execution_count": 50,
   "id": "9b7d3c90-235b-4e6f-9b57-6b3e93c1a66d",
   "metadata": {
    "execution": {
     "iopub.execute_input": "2025-09-05T23:07:17.213046Z",
     "iopub.status.busy": "2025-09-05T23:07:17.212735Z",
     "iopub.status.idle": "2025-09-05T23:07:17.216665Z",
     "shell.execute_reply": "2025-09-05T23:07:17.216115Z",
     "shell.execute_reply.started": "2025-09-05T23:07:17.213021Z"
    }
   },
   "outputs": [
    {
     "name": "stdout",
     "output_type": "stream",
     "text": [
      "Modelo será salvo em:s3://curso-aws-sagemaker1996/modelos/house-prices/linear-learner/output\n"
     ]
    }
   ],
   "source": [
    "output_location = 's3://{}/{}/output'.format(bucket, subpasta_modelo)\n",
    "print('Modelo será salvo em:{}'.format(output_location))"
   ]
  },
  {
   "cell_type": "code",
   "execution_count": null,
   "id": "54b6865d-4c19-46cd-a0bd-46c57d4f27b6",
   "metadata": {},
   "outputs": [],
   "source": []
  }
 ],
 "metadata": {
  "kernelspec": {
   "display_name": "Python 3 (ipykernel)",
   "language": "python",
   "name": "python3"
  },
  "language_info": {
   "codemirror_mode": {
    "name": "ipython",
    "version": 3
   },
   "file_extension": ".py",
   "mimetype": "text/x-python",
   "name": "python",
   "nbconvert_exporter": "python",
   "pygments_lexer": "ipython3",
   "version": "3.12.9"
  }
 },
 "nbformat": 4,
 "nbformat_minor": 5
}
